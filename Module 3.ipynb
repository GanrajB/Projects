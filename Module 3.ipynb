{
 "cells": [
  {
   "cell_type": "code",
   "execution_count": null,
   "id": "65457941-a1f4-4f21-acdf-a3bc3166639f",
   "metadata": {},
   "outputs": [],
   "source": [
    "df.describe()"
   ]
  },
  {
   "cell_type": "code",
   "execution_count": null,
   "id": "03394057-cf35-4ede-a8e4-0c9bb1f2ed0f",
   "metadata": {},
   "outputs": [],
   "source": [
    "drive_wheels_counts=df[\"drive-wheels\"].value_counts()"
   ]
  },
  {
   "cell_type": "code",
   "execution_count": null,
   "id": "60139818-15b1-492d-be16-e42543b16845",
   "metadata": {},
   "outputs": [],
   "source": [
    "drive_wheels_counts.rename(columns={'drive-wheels':'value_counts' inplace=True)\n",
    "drive_wheels_counts.index.name='drive-wheels'"
   ]
  },
  {
   "cell_type": "code",
   "execution_count": null,
   "id": "1c692585-60d9-4177-bb34-e61ee1053be0",
   "metadata": {},
   "outputs": [],
   "source": [
    "sns.boxplot(x= \"drive-wheels\", y=\"price\",data=df)"
   ]
  },
  {
   "cell_type": "code",
   "execution_count": null,
   "id": "355a47f3-21c2-43ad-a41d-ecb53cbb4c52",
   "metadata": {},
   "outputs": [],
   "source": [
    "x=df[\"price\"]\n",
    "y=df[\"engine-size\"]\n",
    "plt.scatter(x,y)"
   ]
  },
  {
   "cell_type": "code",
   "execution_count": null,
   "id": "bfb4774f-2ec2-4be5-b273-0cf4bd87d743",
   "metadata": {},
   "outputs": [],
   "source": [
    "plt.title(\"Scatterplot of Engine Size vs Price\")\n",
    "plt.xlabel(\"Engine Size\")\n",
    "plt.ylable(\"Price\")"
   ]
  },
  {
   "cell_type": "code",
   "execution_count": null,
   "id": "d51a2dc2-d210-4e75-833f-461e9f43a7d2",
   "metadata": {},
   "outputs": [],
   "source": [
    "df_test=df[['drive-wheels', 'body-style', 'price']]\n",
    "df_grp=df_test.groupby(['drive-wheels', 'body-style'], as_index=False).mean()\n",
    "df_grp"
   ]
  },
  {
   "cell_type": "code",
   "execution_count": null,
   "id": "151127cf-593a-4cf6-b649-4f9223887e42",
   "metadata": {},
   "outputs": [],
   "source": [
    "df_pivot=df_grp.pivot(index='drive-wheels', columns='body-style')"
   ]
  },
  {
   "cell_type": "code",
   "execution_count": null,
   "id": "0ef5ab02-95a3-4fa4-80a0-3dddab5f6ad9",
   "metadata": {},
   "outputs": [],
   "source": [
    "plt.pcolor(df_pivot, camp='RdBu')\n",
    "plt.colorbar()\n",
    "plt.show()"
   ]
  },
  {
   "cell_type": "code",
   "execution_count": null,
   "id": "7f7709ef-a416-45b4-afdd-fccaafaba516",
   "metadata": {},
   "outputs": [],
   "source": []
  },
  {
   "cell_type": "code",
   "execution_count": null,
   "id": "f8e667a6-639a-4f78-828f-eb1fd243e4a2",
   "metadata": {},
   "outputs": [],
   "source": [
    "sns.regplot(x=\"engine-size\", y=\"price\", data=df)\n",
    "plt.ylim(0,)"
   ]
  },
  {
   "cell_type": "code",
   "execution_count": null,
   "id": "4fbd343d-2071-4fa7-a55b-f98f516da6f5",
   "metadata": {},
   "outputs": [],
   "source": [
    "sns.regplot(x=\"highway-mpg\", y=\"price\", data=df)\n",
    "plt.ylim(0,)"
   ]
  },
  {
   "cell_type": "code",
   "execution_count": null,
   "id": "f49dc64d-c584-4a07-9bc4-2cc7026422f4",
   "metadata": {},
   "outputs": [],
   "source": [
    "sns.regplot(x=\"peak-rpm\", y=\"price\", data=df)\n",
    "plt.ylim(0,)"
   ]
  },
  {
   "cell_type": "code",
   "execution_count": null,
   "id": "058a98c0-1c2c-4b26-97a8-ddc3698b1928",
   "metadata": {},
   "outputs": [],
   "source": [
    "pearson_coef, p_value = stats.pearsonr(df['horsepower'], df['price'])"
   ]
  }
 ],
 "metadata": {
  "kernelspec": {
   "display_name": "Python 3 (ipykernel)",
   "language": "python",
   "name": "python3"
  },
  "language_info": {
   "codemirror_mode": {
    "name": "ipython",
    "version": 3
   },
   "file_extension": ".py",
   "mimetype": "text/x-python",
   "name": "python",
   "nbconvert_exporter": "python",
   "pygments_lexer": "ipython3",
   "version": "3.12.7"
  }
 },
 "nbformat": 4,
 "nbformat_minor": 5
}
