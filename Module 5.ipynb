{
 "cells": [
  {
   "cell_type": "code",
   "execution_count": 1,
   "id": "2aecf02f-a8bc-490d-9ae9-f2b1249496c2",
   "metadata": {},
   "outputs": [],
   "source": [
    "from sklearn.model_selection import train_test_split"
   ]
  },
  {
   "cell_type": "code",
   "execution_count": null,
   "id": "e79d18ff-707d-4f7f-a0eb-cc7853e67cc1",
   "metadata": {},
   "outputs": [],
   "source": [
    "x_train,x_test,y_train,y_test=train_test_split(x_data,y_data,test_size=0.3,random_state=0)"
   ]
  },
  {
   "cell_type": "code",
   "execution_count": 3,
   "id": "4f08aa81-7eb8-426b-bade-b12715dd3a8d",
   "metadata": {},
   "outputs": [],
   "source": [
    "from sklearn.model_selection import cross_val_score"
   ]
  },
  {
   "cell_type": "code",
   "execution_count": null,
   "id": "26b29754-9d05-42cf-9928-c66342f66520",
   "metadata": {},
   "outputs": [],
   "source": [
    "scores=cross_val_score(lr,x_data,y_data,cv=3)"
   ]
  },
  {
   "cell_type": "code",
   "execution_count": null,
   "id": "775ccd9a-1746-440f-82d7-8e8eb92a5431",
   "metadata": {},
   "outputs": [],
   "source": [
    "np.mean(scores)"
   ]
  },
  {
   "cell_type": "code",
   "execution_count": 5,
   "id": "9fed12cf-ce7c-4cf1-bc9e-0d2f39367ee5",
   "metadata": {},
   "outputs": [],
   "source": [
    "from sklearn.model_selection import cross_val_predict"
   ]
  },
  {
   "cell_type": "code",
   "execution_count": null,
   "id": "f55e17a4-4274-43da-b63b-46d6fefedd14",
   "metadata": {},
   "outputs": [],
   "source": [
    "yhat=cross_val_predict(lr2e,x_data,y_data,cv=3)"
   ]
  },
  {
   "cell_type": "code",
   "execution_count": null,
   "id": "5e162139-e4c8-4f3a-a463-90e62f4ffcc8",
   "metadata": {},
   "outputs": [],
   "source": [
    "Rsqu_test=[]\n",
    "order=[1,2,3,4]\n",
    "for n in order:\n",
    "    pr=polynomialFeatures(degree=n)\n",
    "    x_train_pr=pr.fit_transform(x_train[['horsepower']])\n",
    "    x_test_pr=pr.fit_transform(x_test[['horsepower']])\n",
    "    lr.fit(x_train_pr,y_train)\n",
    "    Rsqu_test.append(lr.score(x_test_pr,y_test))"
   ]
  },
  {
   "cell_type": "code",
   "execution_count": null,
   "id": "3aa03b42-e917-4b50-8c90-b8d668b14595",
   "metadata": {},
   "outputs": [],
   "source": [
    "from sklearn.linear_model import Ridge\n",
    "RidgeModel=Ridge(alpha=0.1)\n",
    "RidgeModel.fit(X,y)\n",
    "Yhat=RidgeModel.predict(X)"
   ]
  },
  {
   "cell_type": "code",
   "execution_count": null,
   "id": "9ed376f6-d0fd-49f6-bc36-a0792008eb6b",
   "metadata": {},
   "outputs": [],
   "source": [
    "from sklearn.linear_model import Ridge\n",
    "from sklearn.model_selection import GridSearchCV\n",
    "\n",
    "parameters=[{'alpha':[0.001,0.01,0.1,1,10,100,1000,10000,100000,1000000]}]\n",
    "\n",
    "RR=Ridge()\n",
    "\n",
    "Grid1=GridSearchCV(RR, parameters1,cv=4)\n",
    "Grid1.fit(x_data[['horsepower','curb-weight','engine-size','highway-mpg']],y_data)\n",
    "\n",
    "Grid1.best_estimator\n",
    "\n",
    "scores=Grid1.cv_results_\n",
    "scores['mean_test_score']"
   ]
  },
  {
   "cell_type": "code",
   "execution_count": null,
   "id": "399b71f4-0467-4653-b76c-b94b47e86db1",
   "metadata": {},
   "outputs": [],
   "source": [
    "parameters=[{'alpha':[1,10,100,1000],'normalize':[True,False]}]"
   ]
  },
  {
   "cell_type": "code",
   "execution_count": null,
   "id": "13cd6aed-9dc4-4920-b9e7-7025d41bd52a",
   "metadata": {},
   "outputs": [],
   "source": [
    "from sklearn.linear_model import Ridge\n",
    "from sklearn.model_selection import GridSearchCV\n",
    "\n",
    "parameters=[{'alpha':[0.001,0.01,0.1,1,10,100,1000,10000,100000,1000000]}]\n",
    "\n",
    "RR=Ridge()\n",
    "\n",
    "Grid1=GridSearchCV(RR, parameters1,cv=4)\n",
    "Grid1.fit(x_data[['horsepower','curb-weight','engine-size','highway-mpg']],y_data)\n",
    "\n",
    "Grid1.best_estimator\n",
    "\n",
    "scores=Grid1.cv_results_\n",
    "\n",
    "for param,mean_val,mean_test in zip(scores['params'], scores['mean_test_score'],scores['mean_train_score']):\n",
    "    print(param, \"R^2 on test data:\",mean_val,\"R^2 on train data:\",mean_test)"
   ]
  }
 ],
 "metadata": {
  "kernelspec": {
   "display_name": "Python 3 (ipykernel)",
   "language": "python",
   "name": "python3"
  },
  "language_info": {
   "codemirror_mode": {
    "name": "ipython",
    "version": 3
   },
   "file_extension": ".py",
   "mimetype": "text/x-python",
   "name": "python",
   "nbconvert_exporter": "python",
   "pygments_lexer": "ipython3",
   "version": "3.12.7"
  }
 },
 "nbformat": 4,
 "nbformat_minor": 5
}
